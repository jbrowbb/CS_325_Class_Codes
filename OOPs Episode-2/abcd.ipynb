{
 "cells": [
  {
   "cell_type": "markdown",
   "metadata": {},
   "source": [
    "# Python is a dynamically typed language"
   ]
  },
  {
   "cell_type": "code",
   "execution_count": 7,
   "metadata": {},
   "outputs": [],
   "source": [
    "def my_function(a,b):\n",
    "    return a + b"
   ]
  },
  {
   "cell_type": "code",
   "execution_count": 8,
   "metadata": {},
   "outputs": [
    {
     "name": "stdout",
     "output_type": "stream",
     "text": [
      "20\n",
      "worldtrade\n"
     ]
    }
   ],
   "source": [
    "number = my_function(9,11)\n",
    "string = my_function(\"world\",\"trade\")\n",
    "\n",
    "print(number)\n",
    "print(string)"
   ]
  },
  {
   "cell_type": "markdown",
   "metadata": {},
   "source": [
    "### Known as duck typing\n",
    "If it walks like a duck and it quacks like a duck, then it must be a duck."
   ]
  },
  {
   "cell_type": "code",
   "execution_count": 9,
   "metadata": {},
   "outputs": [],
   "source": [
    "class Duck:\n",
    "    def walk(self):\n",
    "        pass\n",
    "    \n",
    "    def quack(self):\n",
    "        pass"
   ]
  },
  {
   "cell_type": "markdown",
   "metadata": {},
   "source": [
    "Then we can make an instance of this class and make it walk and quack:"
   ]
  },
  {
   "cell_type": "code",
   "execution_count": 10,
   "metadata": {},
   "outputs": [],
   "source": [
    "duck = Duck()\n",
    "duck.walk()\n",
    "duck.quack()"
   ]
  },
  {
   "cell_type": "code",
   "execution_count": 11,
   "metadata": {},
   "outputs": [],
   "source": [
    "class Donkey:\n",
    "    def walk(self):\n",
    "        pass"
   ]
  },
  {
   "cell_type": "code",
   "execution_count": 1,
   "metadata": {},
   "outputs": [
    {
     "ename": "NameError",
     "evalue": "name 'Donkey' is not defined",
     "output_type": "error",
     "traceback": [
      "\u001b[1;31m---------------------------------------------------------------------------\u001b[0m",
      "\u001b[1;31mNameError\u001b[0m                                 Traceback (most recent call last)",
      "Cell \u001b[1;32mIn[1], line 1\u001b[0m\n\u001b[1;32m----> 1\u001b[0m duck \u001b[38;5;241m=\u001b[39m \u001b[43mDonkey\u001b[49m()\n\u001b[0;32m      2\u001b[0m duck\u001b[38;5;241m.\u001b[39mwalk()\n\u001b[0;32m      3\u001b[0m duck\u001b[38;5;241m.\u001b[39mquack()\n",
      "\u001b[1;31mNameError\u001b[0m: name 'Donkey' is not defined"
     ]
    }
   ],
   "source": [
    "duck = Donkey()\n",
    "duck.walk()\n",
    "duck.quack()"
   ]
  },
  {
   "cell_type": "code",
   "execution_count": null,
   "metadata": {},
   "outputs": [],
   "source": [
    "class ImposterDonkey:\n",
    "    def walk(self):\n",
    "        pass\n",
    "\n",
    "    def quack(self):\n",
    "        pass\n",
    "\n",
    "duck = ImposterDonkey()\n",
    "duck.walk()\n",
    "duck.quack()"
   ]
  },
  {
   "cell_type": "markdown",
   "metadata": {},
   "source": [
    "Since it is dynamically typed which is great lots of flexability, but not type checking.\n",
    "The point is we can assign any object to any other object."
   ]
  },
  {
   "cell_type": "code",
   "execution_count": 12,
   "metadata": {},
   "outputs": [
    {
     "name": "stdout",
     "output_type": "stream",
     "text": [
      "I am full\n"
     ]
    }
   ],
   "source": [
    "class Geese:\n",
    "    def eat_grass(self):\n",
    "        pass\n",
    "\n",
    "    def can_fly(self):\n",
    "        pass\n",
    "\n",
    "\n",
    "def feed_the_geese(geese: Geese):\n",
    "    geese.eat_grass()\n",
    "    print(\"I am full\")\n",
    "\n",
    "\n",
    "geese = Geese()\n",
    "feed_the_geese(geese)"
   ]
  },
  {
   "cell_type": "code",
   "execution_count": 13,
   "metadata": {},
   "outputs": [
    {
     "ename": "AttributeError",
     "evalue": "'Panda' object has no attribute 'eat_grass'",
     "output_type": "error",
     "traceback": [
      "\u001b[1;31m---------------------------------------------------------------------------\u001b[0m",
      "\u001b[1;31mAttributeError\u001b[0m                            Traceback (most recent call last)",
      "Cell \u001b[1;32mIn[13], line 10\u001b[0m\n\u001b[0;32m      6\u001b[0m         \u001b[38;5;28;01mpass\u001b[39;00m\n\u001b[0;32m      9\u001b[0m panda \u001b[38;5;241m=\u001b[39m Panda()\n\u001b[1;32m---> 10\u001b[0m \u001b[43mfeed_the_geese\u001b[49m\u001b[43m(\u001b[49m\u001b[43mpanda\u001b[49m\u001b[43m)\u001b[49m\n",
      "Cell \u001b[1;32mIn[12], line 10\u001b[0m, in \u001b[0;36mfeed_the_geese\u001b[1;34m(geese)\u001b[0m\n\u001b[0;32m      9\u001b[0m \u001b[38;5;28;01mdef\u001b[39;00m \u001b[38;5;21mfeed_the_geese\u001b[39m(geese: Geese):\n\u001b[1;32m---> 10\u001b[0m     \u001b[43mgeese\u001b[49m\u001b[38;5;241;43m.\u001b[39;49m\u001b[43meat_grass\u001b[49m()\n\u001b[0;32m     11\u001b[0m     \u001b[38;5;28mprint\u001b[39m(\u001b[38;5;124m\"\u001b[39m\u001b[38;5;124mI am full\u001b[39m\u001b[38;5;124m\"\u001b[39m)\n",
      "\u001b[1;31mAttributeError\u001b[0m: 'Panda' object has no attribute 'eat_grass'"
     ]
    }
   ],
   "source": [
    "class Panda:\n",
    "    def eat_bamboo(self):\n",
    "        pass\n",
    "\n",
    "    def climb_tree(self):\n",
    "        pass\n",
    "\n",
    "\n",
    "panda = Panda()\n",
    "feed_the_geese(panda)"
   ]
  },
  {
   "cell_type": "markdown",
   "metadata": {},
   "source": [
    "The above error is not verbose enough. The error should be something like expected geese but the instance of the type panda.\n",
    "\n",
    "# Abstract base classes (ABCs)\n",
    "\n",
    "These classes are created with only one purpose, that is some other class will inherit it. This type of class cannot be instantiated."
   ]
  },
  {
   "cell_type": "code",
   "execution_count": 17,
   "metadata": {},
   "outputs": [
    {
     "name": "stdout",
     "output_type": "stream",
     "text": [
      "Data:  my name is... my name is\n"
     ]
    }
   ],
   "source": [
    "from abc import ABC, abstractmethod\n",
    "import os\n",
    "\n",
    "class PersistenceManager(ABC):\n",
    "\n",
    "    @abstractmethod\n",
    "    def save(self, data):\n",
    "        pass\n",
    "\n",
    "    @abstractmethod\n",
    "    def load(self):\n",
    "        pass\n",
    "\n",
    "\n",
    "class FilePersistenceManager(PersistenceManager):\n",
    "    def __init__(self, filename):\n",
    "        self.filename = filename\n",
    "\n",
    "    def save(self, data):\n",
    "        with open(self.filename, \"w\") as file:\n",
    "            file.write(data)\n",
    "\n",
    "    def load(self):\n",
    "        with open(self.filename, \"r\") as file:\n",
    "            return file.read()\n",
    "        \n",
    "    def rename(self, new_file_name):\n",
    "        os.rename(self.filename, new_file_name)\n",
    "\n",
    "class DatabasePersistenceManager(PersistenceManager):\n",
    "    def __init__(self, database_url):\n",
    "        self.database_url = database_url\n",
    "        # write code to connect to the database\n",
    "\n",
    "    def save(self, data):\n",
    "        # e.g. insert into ...\n",
    "        pass\n",
    "\n",
    "    def load(self):\n",
    "        # Execute database query, select *...\n",
    "        pass\n",
    "\n",
    "\n",
    "def main():\n",
    "    data = \"my name is... my name is\"\n",
    "\n",
    "    persistence_manager = FilePersistenceManager(\"my_data.txt\")\n",
    "    persistence_manager.save(data)\n",
    "\n",
    "    loaded_data = persistence_manager.load()\n",
    "    print(\"Data: \", loaded_data)\n",
    "\n",
    "    persistence_manager.rename(\"out_data.txt\")\n",
    "\n",
    "\n",
    "if __name__==\"__main__\":\n",
    "    main()"
   ]
  },
  {
   "cell_type": "markdown",
   "metadata": {},
   "source": [
    "Usually all the abc are in a different class and imported as necessary. If you think there is some common functionality among few of the functions that commonality\n",
    "can be written as ABCs \n",
    "Benefits of using ABCs:\n",
    "\n",
    "* Enforce common interfaces: Ensure that all subclasses implement specific methods, promoting code consistency and reliability.\n",
    "* Code reusability: Define common functionality in the ABC and reuse it in subclasses.\n",
    "* Polymorphism: Treat objects of different subclasses uniformly based on the shared interface defined in the ABC.\n",
    "* Design clarity: Explicitly define the expected behavior of subclasses, improving code readability and maintainability.\n",
    "\n",
    "Common use cases:\n",
    "\n",
    "* Creating interfaces: Define contracts that subclasses must adhere to.\n",
    "* Enforcing design patterns: Ensure adherence to specific design patterns, like the factory pattern or strategy pattern.\n",
    "* Defining type hierarchies: Create a structured hierarchy of related classes.\n",
    "* Facilitating polymorphism: Allow for flexible code that can work with different object types based on a shared interface."
   ]
  },
  {
   "cell_type": "markdown",
   "metadata": {},
   "source": [
    "# Protocol class\n",
    "\n",
    "* provide concrete implementation without inheriting from a base class\n",
    "* Protcol classes still guide the structure of classes that conform to them, promoting consistency and readability.\n",
    "* type chekcing, hint from IDE (added benifit)"
   ]
  },
  {
   "cell_type": "code",
   "execution_count": null,
   "metadata": {},
   "outputs": [
    {
     "name": "stdout",
     "output_type": "stream",
     "text": [
      "Data:  guess who's back...back again\n"
     ]
    },
    {
     "ename": "FileExistsError",
     "evalue": "[WinError 183] Cannot create a file when that file already exists: 'my_data_1.txt' -> 'our_data_1.txt'",
     "output_type": "error",
     "traceback": [
      "\u001b[1;31m---------------------------------------------------------------------------\u001b[0m",
      "\u001b[1;31mFileExistsError\u001b[0m                           Traceback (most recent call last)",
      "Cell \u001b[1;32mIn[7], line 57\u001b[0m\n\u001b[0;32m     53\u001b[0m     persistence_manager\u001b[38;5;241m.\u001b[39mrename(\u001b[38;5;124m\"\u001b[39m\u001b[38;5;124mour_data_1.txt\u001b[39m\u001b[38;5;124m\"\u001b[39m)\n\u001b[0;32m     56\u001b[0m \u001b[38;5;28;01mif\u001b[39;00m \u001b[38;5;18m__name__\u001b[39m\u001b[38;5;241m==\u001b[39m\u001b[38;5;124m\"\u001b[39m\u001b[38;5;124m__main__\u001b[39m\u001b[38;5;124m\"\u001b[39m:\n\u001b[1;32m---> 57\u001b[0m     \u001b[43mmain\u001b[49m\u001b[43m(\u001b[49m\u001b[43m)\u001b[49m\n",
      "Cell \u001b[1;32mIn[7], line 53\u001b[0m, in \u001b[0;36mmain\u001b[1;34m()\u001b[0m\n\u001b[0;32m     50\u001b[0m loaded_data \u001b[38;5;241m=\u001b[39m persistence_manager\u001b[38;5;241m.\u001b[39mload()\n\u001b[0;32m     51\u001b[0m \u001b[38;5;28mprint\u001b[39m(\u001b[38;5;124m\"\u001b[39m\u001b[38;5;124mData: \u001b[39m\u001b[38;5;124m\"\u001b[39m, loaded_data)\n\u001b[1;32m---> 53\u001b[0m \u001b[43mpersistence_manager\u001b[49m\u001b[38;5;241;43m.\u001b[39;49m\u001b[43mrename\u001b[49m\u001b[43m(\u001b[49m\u001b[38;5;124;43m\"\u001b[39;49m\u001b[38;5;124;43mour_data_1.txt\u001b[39;49m\u001b[38;5;124;43m\"\u001b[39;49m\u001b[43m)\u001b[49m\n",
      "Cell \u001b[1;32mIn[7], line 27\u001b[0m, in \u001b[0;36mFilePersistenceManager.rename\u001b[1;34m(self, new_file_name)\u001b[0m\n\u001b[0;32m     26\u001b[0m \u001b[38;5;28;01mdef\u001b[39;00m \u001b[38;5;21mrename\u001b[39m(\u001b[38;5;28mself\u001b[39m, new_file_name):\n\u001b[1;32m---> 27\u001b[0m     \u001b[43mos\u001b[49m\u001b[38;5;241;43m.\u001b[39;49m\u001b[43mrename\u001b[49m\u001b[43m(\u001b[49m\u001b[38;5;28;43mself\u001b[39;49m\u001b[38;5;241;43m.\u001b[39;49m\u001b[43mfilename\u001b[49m\u001b[43m,\u001b[49m\u001b[43m \u001b[49m\u001b[43mnew_file_name\u001b[49m\u001b[43m)\u001b[49m\n",
      "\u001b[1;31mFileExistsError\u001b[0m: [WinError 183] Cannot create a file when that file already exists: 'my_data_1.txt' -> 'our_data_1.txt'"
     ]
    }
   ],
   "source": [
    "from typing import Protocol\n",
    "import os\n",
    "\n",
    "class PersistenceManager(Protocol):\n",
    "    def save(self, data:str) -> None:\n",
    "        # save the data\n",
    "        ...\n",
    "\n",
    "    def load(self)->str:\n",
    "        # load the data\n",
    "        ...\n",
    "\n",
    "\n",
    "class FilePersistenceManager:\n",
    "    def __init__(self, filename:str) -> None:\n",
    "        self.filename = filename\n",
    "\n",
    "    def save(self, data:str) -> None:\n",
    "        with open(self.filename, \"w\") as file:\n",
    "            file.write(data)\n",
    "\n",
    "    def load(self) -> str:\n",
    "        with open(self.filename, \"r\") as file:\n",
    "            return file.read()\n",
    "        \n",
    "    def rename(self, new_file_name):\n",
    "        os.rename(self.filename, new_file_name)\n",
    "\n",
    "\n",
    "class DatabasePersistenceManager:\n",
    "    def __init__(self, database_url:str) -> None:\n",
    "        self.database_url = database_url\n",
    "\n",
    "    def save(self, data:str) -> None:\n",
    "        # database query to save data\n",
    "        pass\n",
    "\n",
    "    def load(self) -> str:\n",
    "        # database query to load data\n",
    "        pass\n",
    "\n",
    "\n",
    "def main():\n",
    "    data = \"guess who's back...back again\"\n",
    "\n",
    "    # the line below ensures that the class (in this case FilePersistenceManager) follows the protocol (in this case PersistenceManager)\n",
    "    persistence_manager : PersistenceManager = FilePersistenceManager(\"my_data_1.txt\") # <-- Magic\n",
    "    persistence_manager.save(data)\n",
    "\n",
    "    loaded_data = persistence_manager.load()\n",
    "    print(\"Data: \", loaded_data)\n",
    "\n",
    "    persistence_manager.rename(\"our_data_1.txt\")\n",
    "\n",
    "\n",
    "if __name__==\"__main__\":\n",
    "    main()"
   ]
  },
  {
   "cell_type": "markdown",
   "metadata": {},
   "source": [
    "The above code can be write in a modular way where each state is in different files. Import the module depending on the runtime need. These are all design decisions.\n",
    "There is no way to tell whether a design is good or bad (not saying writing all the code in one file is a good design). "
   ]
  },
  {
   "cell_type": "markdown",
   "metadata": {},
   "source": [
    "### ABC (Abstrct Base Class)\n",
    "\n",
    "class xyz\n",
    "\n",
    "class xyz()"
   ]
  },
  {
   "cell_type": "code",
   "execution_count": 10,
   "metadata": {},
   "outputs": [],
   "source": [
    "class xyz():\n",
    "\n",
    "    def abc():\n",
    "        ...\n",
    "\n",
    "    def abc_1():\n",
    "        ...\n",
    "    \n",
    "    def abc_2():\n",
    "        ...\n",
    "\n",
    "    def abc_3():\n",
    "        ..."
   ]
  },
  {
   "cell_type": "code",
   "execution_count": 11,
   "metadata": {},
   "outputs": [],
   "source": [
    "class xyz1():\n",
    "\n",
    "    def abc():\n",
    "        ...\n",
    "\n",
    "    def abc_1():\n",
    "        ...\n",
    "    \n",
    "    def abc_2():\n",
    "        ...\n",
    "\n",
    "    def abc_3():\n",
    "        ..."
   ]
  },
  {
   "cell_type": "code",
   "execution_count": 14,
   "metadata": {},
   "outputs": [],
   "source": [
    "from abc import ABC, abstractmethod"
   ]
  },
  {
   "cell_type": "code",
   "execution_count": 15,
   "metadata": {},
   "outputs": [],
   "source": [
    "class PersistenceManager(ABC):\n",
    "\n",
    "    @abstractmethod\n",
    "    def save(self, data):\n",
    "        pass\n",
    "    @abstractmethod\n",
    "    def load(self):\n",
    "        pass"
   ]
  },
  {
   "cell_type": "code",
   "execution_count": 16,
   "metadata": {},
   "outputs": [],
   "source": [
    "class local(PersistenceManager):\n",
    "    def __init__(self, filename):\n",
    "        self.filename = filename\n",
    "\n",
    "    def save(self,data):\n",
    "        with open(self.filename, \"w\") as file:\n",
    "            file.write(data)\n",
    "\n",
    "    def load (self):\n",
    "        with open(self.filename, \"r\") as file:\n",
    "            return file.read()\n",
    "        \n",
    "    def rename(self, new_file_name):\n",
    "        os.rename(self.filename, new_file_name)"
   ]
  },
  {
   "cell_type": "code",
   "execution_count": 17,
   "metadata": {},
   "outputs": [],
   "source": [
    "class database(PersistenceManager):\n",
    "    def __init__(self, database_url):\n",
    "        self.database_url = database_url\n",
    "\n",
    "    def save(self, data):\n",
    "        pass\n",
    "\n",
    "    def load(self):\n",
    "        pass"
   ]
  },
  {
   "cell_type": "code",
   "execution_count": 18,
   "metadata": {},
   "outputs": [
    {
     "name": "stdout",
     "output_type": "stream",
     "text": [
      " hello from SIUE\n"
     ]
    }
   ],
   "source": [
    "def main():\n",
    "\n",
    "    data = \" hello from SIUE\"\n",
    "\n",
    "    local_manager = local(\"my_file.txt\")\n",
    "\n",
    "    local_manager.save(data)\n",
    "\n",
    "    content = local_manager.load()\n",
    "\n",
    "    print(content)\n",
    "\n",
    "    local_manager.rename(\"new_file.txt\")\n",
    "\n",
    "\n",
    "if __name__==\"__main__\":\n",
    "    main()"
   ]
  }
 ],
 "metadata": {
  "kernelspec": {
   "display_name": "Python 3",
   "language": "python",
   "name": "python3"
  },
  "language_info": {
   "codemirror_mode": {
    "name": "ipython",
    "version": 3
   },
   "file_extension": ".py",
   "mimetype": "text/x-python",
   "name": "python",
   "nbconvert_exporter": "python",
   "pygments_lexer": "ipython3",
   "version": "3.10.11"
  }
 },
 "nbformat": 4,
 "nbformat_minor": 2
}
