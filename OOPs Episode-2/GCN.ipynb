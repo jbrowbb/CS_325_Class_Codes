{
 "cells": [
  {
   "cell_type": "code",
   "execution_count": 3,
   "metadata": {},
   "outputs": [],
   "source": [
    "from abc import ABC, abstractmethod\n",
    "import os"
   ]
  },
  {
   "cell_type": "code",
   "execution_count": 5,
   "metadata": {},
   "outputs": [],
   "source": [
    "class FileManager(ABC):\n",
    "\n",
    "    @abstractmethod\n",
    "    def save(self, data):\n",
    "        pass\n",
    "\n",
    "    @abstractmethod\n",
    "    def load(self):\n",
    "        pass"
   ]
  },
  {
   "cell_type": "code",
   "execution_count": 31,
   "metadata": {},
   "outputs": [],
   "source": [
    "class LocalSave(FileManager):\n",
    "\n",
    "    def __init__(self,filename):\n",
    "        self.filename = filename\n",
    "\n",
    "    def save(self, data):\n",
    "        with open(self.filename, \"w\") as file:\n",
    "            file.write(data)\n",
    "\n",
    "    def load(self):\n",
    "        with open(self.filename, \"r\") as file:\n",
    "            return file.read()\n",
    "        \n",
    "    def rename(self,new_file_name):\n",
    "        os.rename(self.filename, new_file_name)"
   ]
  },
  {
   "cell_type": "code",
   "execution_count": null,
   "metadata": {},
   "outputs": [],
   "source": [
    "class DbSave(FileManager):\n",
    "\n",
    "    def __init__(self,database_url):\n",
    "        self.database_url = database_url\n",
    "\n",
    "    def save(self, data):\n",
    "        with open(self.database_url, \"w\") as file:\n",
    "            pass\n",
    "        \n",
    "    def load(self):\n",
    "        with open(self.database_url, \"r\") as file:\n",
    "            pass\n",
    "\n",
    "    def rename(self,new_file_name):\n",
    "        pass"
   ]
  },
  {
   "cell_type": "code",
   "execution_count": null,
   "metadata": {},
   "outputs": [],
   "source": [
    "def main():\n",
    "\n",
    "    data = \"my name is ... my name is ...\"\n",
    "\n",
    "    persistence_manager = LocalSave(\"file1.txt\")\n",
    "\n",
    "    persistence_manager.save(data)\n",
    "\n",
    "    print(persistence_manager.load())\n",
    "\n",
    "    persistence_manager.rename(\"abc.txt\")\n"
   ]
  },
  {
   "cell_type": "code",
   "execution_count": 39,
   "metadata": {},
   "outputs": [
    {
     "name": "stdout",
     "output_type": "stream",
     "text": [
      "my name is ... my name is ...\n"
     ]
    }
   ],
   "source": [
    "if __name__ == \"__main__\":\n",
    "    main()"
   ]
  },
  {
   "cell_type": "code",
   "execution_count": 40,
   "metadata": {},
   "outputs": [],
   "source": [
    "from typing import Protocol"
   ]
  },
  {
   "cell_type": "code",
   "execution_count": 21,
   "metadata": {},
   "outputs": [],
   "source": [
    "class FileManager(Protocol):\n",
    "\n",
    "    @abstractmethod\n",
    "    def save(self, data) -> None:\n",
    "        pass\n",
    "\n",
    "    @abstractmethod\n",
    "    def load(self) -> None:\n",
    "        pass"
   ]
  },
  {
   "cell_type": "code",
   "execution_count": null,
   "metadata": {},
   "outputs": [],
   "source": [
    "class LocalSave:\n",
    "\n",
    "    def __init__(self,filename):\n",
    "        self.filename = filename\n",
    "\n",
    "    def save(self, data):\n",
    "        with open(self.filename, \"w\") as file:\n",
    "            file.write(data)\n",
    "\n",
    "    def load(self):\n",
    "        with open(self.filename, \"r\") as file:\n",
    "            return file.read()\n",
    "        \n",
    "    def rename(self,new_file_name):\n",
    "        os.rename(self.filename, new_file_name)"
   ]
  },
  {
   "cell_type": "code",
   "execution_count": null,
   "metadata": {},
   "outputs": [],
   "source": [
    "class DbSave:\n",
    "\n",
    "    def __init__(self,database_url):\n",
    "        self.database_url = database_url\n",
    "\n",
    "    def save(self, data):\n",
    "        with open(self.database_url, \"w\") as file:\n",
    "            pass\n",
    "        \n",
    "    def load(self):\n",
    "        with open(self.database_url, \"r\") as file:\n",
    "            pass\n",
    "\n",
    "    def rename(self,new_file_name):\n",
    "        pass"
   ]
  },
  {
   "cell_type": "code",
   "execution_count": 41,
   "metadata": {},
   "outputs": [],
   "source": [
    "def main():\n",
    "    \n",
    "    data = \"Guess who's back ... back again\"\n",
    "\n",
    "    persistence_manager : FileManager = LocalSave(\"temp2.txt\")\n",
    "\n",
    "    persistence_manager.save(data)"
   ]
  },
  {
   "cell_type": "code",
   "execution_count": 30,
   "metadata": {},
   "outputs": [],
   "source": [
    "if __name__ == \"__main__\":\n",
    "    main()"
   ]
  }
 ],
 "metadata": {
  "kernelspec": {
   "display_name": "Python 3",
   "language": "python",
   "name": "python3"
  },
  "language_info": {
   "codemirror_mode": {
    "name": "ipython",
    "version": 3
   },
   "file_extension": ".py",
   "mimetype": "text/x-python",
   "name": "python",
   "nbconvert_exporter": "python",
   "pygments_lexer": "ipython3",
   "version": "3.10.11"
  }
 },
 "nbformat": 4,
 "nbformat_minor": 2
}
