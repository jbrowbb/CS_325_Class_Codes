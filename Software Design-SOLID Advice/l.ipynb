{
 "cells": [
  {
   "cell_type": "code",
   "execution_count": null,
   "metadata": {},
   "outputs": [],
   "source": [
    "class Animal:\n",
    "    def make_sound(self):\n",
    "        raise NotImplementedError(\"Subclasses must implement make_sound\")\n",
    "\n",
    "\n",
    "class Dog(Animal):\n",
    "    def make_sound(self):\n",
    "        print(\"Woof!\")\n",
    "\n",
    "\n",
    "class Fish(Animal):\n",
    "    def make_sound(self):\n",
    "        print(\"Blub blub...\")  # Violates LSP by throwing an exception\n",
    "\n",
    "\n",
    "def play_with_animal(animal):\n",
    "    animal.make_sound()\n",
    "\n",
    "\n",
    "dog = Dog()\n",
    "fish = Fish()\n",
    "\n",
    "play_with_animal(dog)  # Prints \"Woof!\" as expected\n",
    "play_with_animal(fish)  # Raises NotImplementedError\n",
    "\n",
    "\n",
    "# This program will crash when using a Fish object where a Dog is expected,\n",
    "# violating the principle of substitutability.\n"
   ]
  },
  {
   "cell_type": "code",
   "execution_count": null,
   "metadata": {},
   "outputs": [],
   "source": [
    "\n",
    "class Fish(Animal):\n",
    "    def make_sound(self):\n",
    "        # Simulate silence or implement a fish-like sound (optional)\n",
    "        pass  # Or: print(\"...\")\n"
   ]
  },
  {
   "cell_type": "code",
   "execution_count": null,
   "metadata": {},
   "outputs": [],
   "source": [
    "class MakesSound:\n",
    "    def make_sound(self):\n",
    "        raise NotImplementedError(\"Subclasses must implement make_sound\")\n",
    "\n",
    "\n",
    "class Dog(Animal, MakesSound):\n",
    "    def make_sound(self):\n",
    "        print(\"Woof!\")\n",
    "\n",
    "\n",
    "class Fish(Animal):\n",
    "    def make_sound(self):\n",
    "        # Simulate silence or implement a fish-like sound (optional)\n",
    "        pass  # Or: print(\"...\")\n",
    "\n",
    "\n",
    "def play_with_animal(animal):\n",
    "    if isinstance(animal, MakesSound):\n",
    "        animal.make_sound()\n",
    "    else:\n",
    "        print(\"This animal doesn't make sound.\")\n",
    "\n",
    "\n",
    "dog = Dog()\n",
    "fish = Fish()\n",
    "\n",
    "play_with_animal(dog)  # Prints \"Woof!\" as expected\n",
    "play_with_animal(fish)  # Prints \"This animal doesn't make sound.\"\n",
    "\n",
    "\n",
    "#Subclasses should not introduce unexpected side effects or throw exceptions not expected by the base class.\n",
    "#Consider defining separate interfaces for specific functionalities to avoid unintended substitutions.\n",
    "#LSP helps write flexible and robust object-oriented code."
   ]
  }
 ],
 "metadata": {
  "language_info": {
   "name": "python"
  }
 },
 "nbformat": 4,
 "nbformat_minor": 2
}
