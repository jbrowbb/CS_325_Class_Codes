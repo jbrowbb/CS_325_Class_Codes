{
 "cells": [
  {
   "cell_type": "code",
   "execution_count": null,
   "metadata": {},
   "outputs": [],
   "source": [
    "class PaymentProcessor:\n",
    "    def __init__(self):\n",
    "        self.payment_method = CreditCard()  # Tightly coupled to CreditCard\n",
    "\n",
    "    def process_payment(self, amount):\n",
    "        self.payment_method.charge(amount)\n",
    "\n",
    "\n",
    "class CreditCard:\n",
    "    def charge(self, amount):\n",
    "        # Implement credit card transaction logic\n",
    "        pass\n",
    "\n",
    "\n",
    "# Usage:\n",
    "processor = PaymentProcessor()\n",
    "processor.process_payment(100)  # Only works with CreditCard\n"
   ]
  },
  {
   "cell_type": "code",
   "execution_count": null,
   "metadata": {},
   "outputs": [],
   "source": [
    "from abc import ABC, abstractmethod\n",
    "\n",
    "class PaymentMethod(ABC):\n",
    "    @abstractmethod\n",
    "    def charge(self, amount):\n",
    "        pass\n",
    "\n",
    "\n",
    "class CreditCard(PaymentMethod):\n",
    "    # Implement credit card logic\n",
    "    ...\n",
    "\n",
    "\n",
    "class PayPal(PaymentMethod):\n",
    "    # Implement PayPal logic\n",
    "    ...\n",
    "\n",
    "\n",
    "class PaymentProcessor:\n",
    "    def __init__(self, payment_method: PaymentMethod):\n",
    "        self.payment_method = payment_method\n",
    "\n",
    "    def process_payment(self, amount):\n",
    "        self.payment_method.charge(amount)\n",
    "\n",
    "\n",
    "# Usage:\n",
    "processor = PaymentProcessor(CreditCard())\n",
    "processor.process_payment(100)  # Works with CreditCard\n",
    "\n",
    "processor = PaymentProcessor(PayPal())\n",
    "processor.process_payment(50)  # Works with PayPal\n"
   ]
  }
 ],
 "metadata": {
  "language_info": {
   "name": "python"
  }
 },
 "nbformat": 4,
 "nbformat_minor": 2
}
