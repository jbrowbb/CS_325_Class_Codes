{
 "cells": [
  {
   "cell_type": "code",
   "execution_count": 2,
   "metadata": {},
   "outputs": [
    {
     "name": "stdout",
     "output_type": "stream",
     "text": [
      "Product(name='pant', price=30.12, quantity=13)\n",
      "The Most expensive product is shoe\n",
      "updated quantity is 12\n"
     ]
    }
   ],
   "source": [
    "class Product:\n",
    "    def __init__(self, name: str, price: float, quantity: int):\n",
    "        self.name=name\n",
    "        self.price=price\n",
    "        self.quantity=quantity\n",
    "\n",
    "    def __repr__(self) -> str:\n",
    "        return f\"Product(name='{self.name}', price={self.price:.2f}, quantity={self.quantity})\"\n",
    "    \n",
    "    def __eq__(self, value: object) -> bool:\n",
    "        if isinstance(value, Product):\n",
    "            return (self.name,self.price,self.quantity) == (value.name, value.price,value.quantity)\n",
    "        return NotImplemented\n",
    "    \n",
    "    def __hash__(self) -> int:\n",
    "        return hash((self.name,self.price,self.quantity))\n",
    "    \n",
    "\n",
    "def main():\n",
    "    products=[\n",
    "        Product(\"shirt\",12.99,10),\n",
    "        Product(\"pant\", 30.123,13),\n",
    "        Product(\"tie\",8.45,13)\n",
    "    ]\n",
    "    products.append(Product(\"shoe\",40.34,10))\n",
    "    #1\n",
    "    #print(products[1].name)\n",
    "    print(products[1])\n",
    "\n",
    "    expensive_product=max(products, key=lambda p:p.price)\n",
    "    print(f\"The Most expensive product is {expensive_product.name}\")\n",
    "\n",
    "    #3\n",
    "    products[0].quantity+=2\n",
    "    print(f\"updated quantity is {products[0].quantity}\")\n",
    "    \n",
    "if __name__==\"__main__\":\n",
    "    main()"
   ]
  },
  {
   "cell_type": "code",
   "execution_count": 3,
   "metadata": {},
   "outputs": [
    {
     "name": "stdout",
     "output_type": "stream",
     "text": [
      "Product(name='pant', price=30.123, quantity=13)\n",
      "The Most expensive product is shoe\n",
      "updated quantity is 12\n"
     ]
    }
   ],
   "source": [
    "from dataclasses import dataclass\n",
    "\n",
    "@dataclass\n",
    "class Product:\n",
    "    name:str\n",
    "    price: float\n",
    "    quantity : int\n",
    "\n",
    "def main():\n",
    "    products=[\n",
    "        Product(\"shirt\",12.99,10),\n",
    "        Product(\"pant\", 30.123,13),\n",
    "        Product(\"tie\",8.45,13)\n",
    "    ]\n",
    "    products.append(Product(\"shoe\",40.34,10))\n",
    "    #1\n",
    "    print(products[1])\n",
    "\n",
    "    expensive_product=max(products, key=lambda p:p.price)\n",
    "    print(f\"The Most expensive product is {expensive_product.name}\")\n",
    "\n",
    "    #3\n",
    "    products[0].quantity+=2\n",
    "    print(f\"updated quantity is {products[0].quantity}\")\n",
    "    \n",
    "if __name__==\"__main__\":\n",
    "    main()"
   ]
  },
  {
   "cell_type": "code",
   "execution_count": 4,
   "metadata": {},
   "outputs": [
    {
     "name": "stdout",
     "output_type": "stream",
     "text": [
      "Book title (using methods): ('The Lord of the Rings', 'Tolkien')\n",
      "Book title after change (using methods): ('The Fellowship of the Ring', 'Tolkien')\n"
     ]
    }
   ],
   "source": [
    "class Book:\n",
    "    def __init__(self, title, author):\n",
    "        self._title = title\n",
    "        self._author = author\n",
    "\n",
    "    def get_title(self):\n",
    "        return self._title,self._author\n",
    "\n",
    "    def set_title(self, new_title, author):\n",
    "        self._title = new_title\n",
    "        self._author = author\n",
    "\n",
    "def main():\n",
    "    book = Book(\"The Lord of the Rings\", \"Tolkien\")\n",
    "\n",
    "    print(\"Book title (using methods):\", book.get_title())\n",
    "\n",
    "    book.set_title(\"The Fellowship of the Ring\",\"Tolkien\")\n",
    "    print(\"Book title after change (using methods):\", book.get_title())\n",
    "\n",
    "if __name__ == \"__main__\":\n",
    "    main()"
   ]
  },
  {
   "cell_type": "code",
   "execution_count": 2,
   "metadata": {},
   "outputs": [
    {
     "name": "stdout",
     "output_type": "stream",
     "text": [
      "Book title (using properties): ('The Lord of the Rings', 'Tolkien')\n",
      "Book title after change (using properties): ('The Fellowship of the Ring', 'No input')\n",
      "Book title after change: ('The Fellowship of the ring', 'tolkien')\n"
     ]
    }
   ],
   "source": [
    "from collections.abc import Iterable\n",
    "class Book:\n",
    "    def __init__(self, title, author):\n",
    "        self._title = title\n",
    "        self._author = author\n",
    "\n",
    "    @property\n",
    "    def title(self):\n",
    "        return self._title, self._author\n",
    "\n",
    "    @title.setter\n",
    "    def title(self, new_title):\n",
    "        if not isinstance(new_title, str):\n",
    "            val1 , val2 = new_title\n",
    "        else: \n",
    "            val1=new_title\n",
    "            val2=\"No input\"\n",
    "        self._title = val1\n",
    "        self._author = val2\n",
    "\n",
    "\n",
    "def main():\n",
    "    book = Book(\"The Lord of the Rings\", \"Tolkien\")\n",
    "\n",
    "    print(\"Book title (using properties):\", book.title)\n",
    "\n",
    "    book.title = \"The Fellowship of the Ring\"\n",
    "    print(\"Book title after change (using properties):\", book.title)\n",
    "\n",
    "    book.title = [\"The Fellowship of the ring\" , \"tolkien\"]\n",
    "    print(\"Book title after change:\", book.title)\n",
    "\n",
    "if __name__ == \"__main__\":\n",
    "    main()"
   ]
  },
  {
   "cell_type": "code",
   "execution_count": 1,
   "metadata": {},
   "outputs": [
    {
     "data": {
      "text/plain": [
       "573147844013817084101"
      ]
     },
     "execution_count": 1,
     "metadata": {},
     "output_type": "execute_result"
    }
   ],
   "source": [
    "def cache(func):\n",
    "    cache_dic = {}\n",
    "    def wrapper(*args):\n",
    "        if args in cache_dic:\n",
    "            return cache_dic[args]\n",
    "        result = func(*args)\n",
    "        cache_dic[args] = result\n",
    "        return result\n",
    "    return wrapper\n",
    "\n",
    "@cache\n",
    "def fib(n):\n",
    "    if n <= 1:\n",
    "        return n\n",
    "    return fib(n-1) + fib(n-2)\n",
    "\n",
    "fib(101)\n"
   ]
  },
  {
   "cell_type": "code",
   "execution_count": 3,
   "metadata": {},
   "outputs": [
    {
     "name": "stdout",
     "output_type": "stream",
     "text": [
      "Before calling the function\n",
      "Hello,Alice!\n",
      "After calling the function\n"
     ]
    }
   ],
   "source": [
    "def my_decorator(func):\n",
    "    def wrapper(*args):\n",
    "        print(\"Before calling the function\")\n",
    "        result = func(*args)\n",
    "        print(\"After calling the function\")\n",
    "        return result\n",
    "    return wrapper\n",
    "\n",
    "@my_decorator   # greet = my_decorator(greet)\n",
    "def greet(name):\n",
    "    print(\"Hello,\" + name + \"!\")\n",
    "\n",
    "greet(\"Alice\")"
   ]
  },
  {
   "cell_type": "code",
   "execution_count": 4,
   "metadata": {},
   "outputs": [
    {
     "name": "stderr",
     "output_type": "stream",
     "text": [
      "INFO:__main__:Calling add with args: (), kwargs: {'x': 2, 'y': 3}\n",
      "INFO:__main__:Function add returned: 5\n"
     ]
    },
    {
     "name": "stdout",
     "output_type": "stream",
     "text": [
      "2\n"
     ]
    }
   ],
   "source": [
    "import logging\n",
    "\n",
    "def log_calls(func):\n",
    "    def wrapper(*args, **kwargs):\n",
    "        logger = logging.getLogger(__name__)\n",
    "        logger.info(f\"Calling {func.__name__} with args: {args}, kwargs: {kwargs}\")\n",
    "        result = func(*args, **kwargs)\n",
    "        print(kwargs['x'])\n",
    "        # print(kwargs['y'])\n",
    "        # print(args)\n",
    "        logger.info(f\"Function {func.__name__} returned: {result}\")\n",
    "        return result\n",
    "    return wrapper\n",
    "\n",
    "@log_calls\n",
    "def add(x,y):\n",
    "    return x + y\n",
    "\n",
    "# Set up logging\n",
    "logging.basicConfig(level=logging.INFO)\n",
    "\n",
    "result =add(x = 2, y = 3)   # for kwargs\n",
    "# result = add(4,5)     # for kwargs"
   ]
  },
  {
   "cell_type": "code",
   "execution_count": 5,
   "metadata": {},
   "outputs": [
    {
     "name": "stdout",
     "output_type": "stream",
     "text": [
      "this is the original methos\n",
      "This is a new method added by the decorator\n"
     ]
    }
   ],
   "source": [
    "def add_method(cls):\n",
    "    class NewClass(cls):\n",
    "        def new_method(self):\n",
    "            print(\"This is a new method added by the decorator\")\n",
    "    return NewClass\n",
    "\n",
    "@add_method\n",
    "class MyClass:\n",
    "    def original_method(self):\n",
    "        print (\"this is the original methos\")\n",
    "\n",
    "obj = MyClass()\n",
    "obj.original_method()\n",
    "obj.new_method()"
   ]
  },
  {
   "cell_type": "markdown",
   "metadata": {},
   "source": [
    "# This code is going to explain decorator using Python"
   ]
  },
  {
   "cell_type": "code",
   "execution_count": 2,
   "metadata": {},
   "outputs": [
    {
     "name": "stdout",
     "output_type": "stream",
     "text": [
      "Inside the function Greet hello manas!\n"
     ]
    }
   ],
   "source": [
    "def greet(name):\n",
    "    print(\"Inside the function Greet \" \"hello \" + name + \"!\")\n",
    "\n",
    "greet(\"manas\")"
   ]
  },
  {
   "cell_type": "code",
   "execution_count": 5,
   "metadata": {},
   "outputs": [
    {
     "name": "stdout",
     "output_type": "stream",
     "text": [
      "before calling the function greet\n",
      "Inside the function Greet hello manas!\n",
      "after calling greet\n"
     ]
    }
   ],
   "source": [
    "def enhanced_greet(func):\n",
    "    def wrapper(*args):\n",
    "        print(\"before calling the function greet\")\n",
    "\n",
    "        result = func(*args)\n",
    "\n",
    "        print(\"after calling greet\")\n",
    "        return result\n",
    "    return wrapper\n",
    "\n",
    "\n",
    "@enhanced_greet\n",
    "def greet(name):\n",
    "    print(\"Inside the function Greet \" \"hello \" + name + \"!\")\n",
    "\n",
    "greet(\"manas\")"
   ]
  }
 ],
 "metadata": {
  "kernelspec": {
   "display_name": "Python 3",
   "language": "python",
   "name": "python3"
  },
  "language_info": {
   "codemirror_mode": {
    "name": "ipython",
    "version": 3
   },
   "file_extension": ".py",
   "mimetype": "text/x-python",
   "name": "python",
   "nbconvert_exporter": "python",
   "pygments_lexer": "ipython3",
   "version": "3.10.11"
  }
 },
 "nbformat": 4,
 "nbformat_minor": 2
}
